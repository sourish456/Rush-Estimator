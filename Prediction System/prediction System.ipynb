{
 "cells": [
  {
   "cell_type": "markdown",
   "id": "eaeb1efb",
   "metadata": {},
   "source": [
    "# Foot-Traffic Prediction System"
   ]
  },
  {
   "cell_type": "markdown",
   "id": "1e45063d",
   "metadata": {},
   "source": [
    "## Importing necessary libraries"
   ]
  },
  {
   "cell_type": "code",
   "execution_count": 1,
   "id": "fc990aeb",
   "metadata": {
    "scrolled": true
   },
   "outputs": [],
   "source": [
    "import numpy as np\n",
    "import pandas as pd\n",
    "import seaborn as sns\n",
    "from sklearn.model_selection import train_test_split\n",
    "from xgboost import XGBRegressor\n",
    "from sklearn import metrics"
   ]
  },
  {
   "cell_type": "markdown",
   "id": "a2de01d7",
   "metadata": {},
   "source": [
    "## Importing the data"
   ]
  },
  {
   "cell_type": "code",
   "execution_count": 2,
   "id": "1cc8f6a5",
   "metadata": {},
   "outputs": [
    {
     "data": {
      "text/html": [
       "<div>\n",
       "<style scoped>\n",
       "    .dataframe tbody tr th:only-of-type {\n",
       "        vertical-align: middle;\n",
       "    }\n",
       "\n",
       "    .dataframe tbody tr th {\n",
       "        vertical-align: top;\n",
       "    }\n",
       "\n",
       "    .dataframe thead th {\n",
       "        text-align: right;\n",
       "    }\n",
       "</style>\n",
       "<table border=\"1\" class=\"dataframe\">\n",
       "  <thead>\n",
       "    <tr style=\"text-align: right;\">\n",
       "      <th></th>\n",
       "      <th>hpg_store_id</th>\n",
       "      <th>visit_datetime</th>\n",
       "      <th>reserve_datetime</th>\n",
       "      <th>reserve_visitors</th>\n",
       "    </tr>\n",
       "  </thead>\n",
       "  <tbody>\n",
       "    <tr>\n",
       "      <th>0</th>\n",
       "      <td>hpg_c63f6f42e088e50f</td>\n",
       "      <td>2016-01-01 11:00:00</td>\n",
       "      <td>2016-01-01 09:00:00</td>\n",
       "      <td>1</td>\n",
       "    </tr>\n",
       "    <tr>\n",
       "      <th>1</th>\n",
       "      <td>hpg_dac72789163a3f47</td>\n",
       "      <td>2016-01-01 13:00:00</td>\n",
       "      <td>2016-01-01 06:00:00</td>\n",
       "      <td>3</td>\n",
       "    </tr>\n",
       "    <tr>\n",
       "      <th>2</th>\n",
       "      <td>hpg_c8e24dcf51ca1eb5</td>\n",
       "      <td>2016-01-01 16:00:00</td>\n",
       "      <td>2016-01-01 14:00:00</td>\n",
       "      <td>2</td>\n",
       "    </tr>\n",
       "    <tr>\n",
       "      <th>3</th>\n",
       "      <td>hpg_24bb207e5fd49d4a</td>\n",
       "      <td>2016-01-01 17:00:00</td>\n",
       "      <td>2016-01-01 11:00:00</td>\n",
       "      <td>5</td>\n",
       "    </tr>\n",
       "    <tr>\n",
       "      <th>4</th>\n",
       "      <td>hpg_25291c542ebb3bc2</td>\n",
       "      <td>2016-01-01 17:00:00</td>\n",
       "      <td>2016-01-01 03:00:00</td>\n",
       "      <td>13</td>\n",
       "    </tr>\n",
       "    <tr>\n",
       "      <th>5</th>\n",
       "      <td>hpg_28bdf7a336ec6a7b</td>\n",
       "      <td>2016-01-01 17:00:00</td>\n",
       "      <td>2016-01-01 15:00:00</td>\n",
       "      <td>2</td>\n",
       "    </tr>\n",
       "    <tr>\n",
       "      <th>6</th>\n",
       "      <td>hpg_2a01a042bca04ad9</td>\n",
       "      <td>2016-01-01 17:00:00</td>\n",
       "      <td>2016-01-01 17:00:00</td>\n",
       "      <td>2</td>\n",
       "    </tr>\n",
       "    <tr>\n",
       "      <th>7</th>\n",
       "      <td>hpg_2a84dd9f4c140b82</td>\n",
       "      <td>2016-01-01 17:00:00</td>\n",
       "      <td>2016-01-01 15:00:00</td>\n",
       "      <td>2</td>\n",
       "    </tr>\n",
       "    <tr>\n",
       "      <th>8</th>\n",
       "      <td>hpg_2ad179871696901f</td>\n",
       "      <td>2016-01-01 17:00:00</td>\n",
       "      <td>2016-01-01 13:00:00</td>\n",
       "      <td>2</td>\n",
       "    </tr>\n",
       "    <tr>\n",
       "      <th>9</th>\n",
       "      <td>hpg_2c1d989eedb0ff83</td>\n",
       "      <td>2016-01-01 17:00:00</td>\n",
       "      <td>2016-01-01 15:00:00</td>\n",
       "      <td>6</td>\n",
       "    </tr>\n",
       "    <tr>\n",
       "      <th>10</th>\n",
       "      <td>hpg_33ec1499d6b13141</td>\n",
       "      <td>2016-01-01 17:00:00</td>\n",
       "      <td>2016-01-01 15:00:00</td>\n",
       "      <td>2</td>\n",
       "    </tr>\n",
       "    <tr>\n",
       "      <th>11</th>\n",
       "      <td>hpg_3db9d09c5f93950a</td>\n",
       "      <td>2016-01-01 17:00:00</td>\n",
       "      <td>2016-01-01 16:00:00</td>\n",
       "      <td>2</td>\n",
       "    </tr>\n",
       "    <tr>\n",
       "      <th>12</th>\n",
       "      <td>hpg_41b71f51a8f65c1d</td>\n",
       "      <td>2016-01-01 17:00:00</td>\n",
       "      <td>2016-01-01 09:00:00</td>\n",
       "      <td>2</td>\n",
       "    </tr>\n",
       "    <tr>\n",
       "      <th>13</th>\n",
       "      <td>hpg_41b71f51a8f65c1d</td>\n",
       "      <td>2016-01-01 17:00:00</td>\n",
       "      <td>2016-01-01 15:00:00</td>\n",
       "      <td>2</td>\n",
       "    </tr>\n",
       "    <tr>\n",
       "      <th>14</th>\n",
       "      <td>hpg_4a4bfa8cdf978d5f</td>\n",
       "      <td>2016-01-01 17:00:00</td>\n",
       "      <td>2016-01-01 14:00:00</td>\n",
       "      <td>5</td>\n",
       "    </tr>\n",
       "    <tr>\n",
       "      <th>15</th>\n",
       "      <td>hpg_4e4f1f49ac180e72</td>\n",
       "      <td>2016-01-01 17:00:00</td>\n",
       "      <td>2016-01-01 16:00:00</td>\n",
       "      <td>4</td>\n",
       "    </tr>\n",
       "    <tr>\n",
       "      <th>16</th>\n",
       "      <td>hpg_52b68a5ac1a1b391</td>\n",
       "      <td>2016-01-01 17:00:00</td>\n",
       "      <td>2016-01-01 16:00:00</td>\n",
       "      <td>2</td>\n",
       "    </tr>\n",
       "    <tr>\n",
       "      <th>17</th>\n",
       "      <td>hpg_56ed47abb3e3a1ab</td>\n",
       "      <td>2016-01-01 17:00:00</td>\n",
       "      <td>2016-01-01 13:00:00</td>\n",
       "      <td>4</td>\n",
       "    </tr>\n",
       "    <tr>\n",
       "      <th>18</th>\n",
       "      <td>hpg_62f22eb77320e09b</td>\n",
       "      <td>2016-01-01 17:00:00</td>\n",
       "      <td>2016-01-01 15:00:00</td>\n",
       "      <td>5</td>\n",
       "    </tr>\n",
       "    <tr>\n",
       "      <th>19</th>\n",
       "      <td>hpg_6ab4b09e096005ed</td>\n",
       "      <td>2016-01-01 17:00:00</td>\n",
       "      <td>2016-01-01 16:00:00</td>\n",
       "      <td>2</td>\n",
       "    </tr>\n",
       "    <tr>\n",
       "      <th>20</th>\n",
       "      <td>hpg_6e88419fb20b4340</td>\n",
       "      <td>2016-01-01 17:00:00</td>\n",
       "      <td>2016-01-01 07:00:00</td>\n",
       "      <td>5</td>\n",
       "    </tr>\n",
       "    <tr>\n",
       "      <th>21</th>\n",
       "      <td>hpg_7d3e4dd0eb997f0b</td>\n",
       "      <td>2016-01-01 17:00:00</td>\n",
       "      <td>2016-01-01 11:00:00</td>\n",
       "      <td>4</td>\n",
       "    </tr>\n",
       "    <tr>\n",
       "      <th>22</th>\n",
       "      <td>hpg_91513661ad381d45</td>\n",
       "      <td>2016-01-01 17:00:00</td>\n",
       "      <td>2016-01-01 16:00:00</td>\n",
       "      <td>5</td>\n",
       "    </tr>\n",
       "    <tr>\n",
       "      <th>23</th>\n",
       "      <td>hpg_91cdca51ab93bab5</td>\n",
       "      <td>2016-01-01 17:00:00</td>\n",
       "      <td>2016-01-01 16:00:00</td>\n",
       "      <td>3</td>\n",
       "    </tr>\n",
       "    <tr>\n",
       "      <th>24</th>\n",
       "      <td>hpg_93bbabe64dcaa698</td>\n",
       "      <td>2016-01-01 17:00:00</td>\n",
       "      <td>2016-01-01 16:00:00</td>\n",
       "      <td>2</td>\n",
       "    </tr>\n",
       "  </tbody>\n",
       "</table>\n",
       "</div>"
      ],
      "text/plain": [
       "            hpg_store_id       visit_datetime     reserve_datetime  \\\n",
       "0   hpg_c63f6f42e088e50f  2016-01-01 11:00:00  2016-01-01 09:00:00   \n",
       "1   hpg_dac72789163a3f47  2016-01-01 13:00:00  2016-01-01 06:00:00   \n",
       "2   hpg_c8e24dcf51ca1eb5  2016-01-01 16:00:00  2016-01-01 14:00:00   \n",
       "3   hpg_24bb207e5fd49d4a  2016-01-01 17:00:00  2016-01-01 11:00:00   \n",
       "4   hpg_25291c542ebb3bc2  2016-01-01 17:00:00  2016-01-01 03:00:00   \n",
       "5   hpg_28bdf7a336ec6a7b  2016-01-01 17:00:00  2016-01-01 15:00:00   \n",
       "6   hpg_2a01a042bca04ad9  2016-01-01 17:00:00  2016-01-01 17:00:00   \n",
       "7   hpg_2a84dd9f4c140b82  2016-01-01 17:00:00  2016-01-01 15:00:00   \n",
       "8   hpg_2ad179871696901f  2016-01-01 17:00:00  2016-01-01 13:00:00   \n",
       "9   hpg_2c1d989eedb0ff83  2016-01-01 17:00:00  2016-01-01 15:00:00   \n",
       "10  hpg_33ec1499d6b13141  2016-01-01 17:00:00  2016-01-01 15:00:00   \n",
       "11  hpg_3db9d09c5f93950a  2016-01-01 17:00:00  2016-01-01 16:00:00   \n",
       "12  hpg_41b71f51a8f65c1d  2016-01-01 17:00:00  2016-01-01 09:00:00   \n",
       "13  hpg_41b71f51a8f65c1d  2016-01-01 17:00:00  2016-01-01 15:00:00   \n",
       "14  hpg_4a4bfa8cdf978d5f  2016-01-01 17:00:00  2016-01-01 14:00:00   \n",
       "15  hpg_4e4f1f49ac180e72  2016-01-01 17:00:00  2016-01-01 16:00:00   \n",
       "16  hpg_52b68a5ac1a1b391  2016-01-01 17:00:00  2016-01-01 16:00:00   \n",
       "17  hpg_56ed47abb3e3a1ab  2016-01-01 17:00:00  2016-01-01 13:00:00   \n",
       "18  hpg_62f22eb77320e09b  2016-01-01 17:00:00  2016-01-01 15:00:00   \n",
       "19  hpg_6ab4b09e096005ed  2016-01-01 17:00:00  2016-01-01 16:00:00   \n",
       "20  hpg_6e88419fb20b4340  2016-01-01 17:00:00  2016-01-01 07:00:00   \n",
       "21  hpg_7d3e4dd0eb997f0b  2016-01-01 17:00:00  2016-01-01 11:00:00   \n",
       "22  hpg_91513661ad381d45  2016-01-01 17:00:00  2016-01-01 16:00:00   \n",
       "23  hpg_91cdca51ab93bab5  2016-01-01 17:00:00  2016-01-01 16:00:00   \n",
       "24  hpg_93bbabe64dcaa698  2016-01-01 17:00:00  2016-01-01 16:00:00   \n",
       "\n",
       "    reserve_visitors  \n",
       "0                  1  \n",
       "1                  3  \n",
       "2                  2  \n",
       "3                  5  \n",
       "4                 13  \n",
       "5                  2  \n",
       "6                  2  \n",
       "7                  2  \n",
       "8                  2  \n",
       "9                  6  \n",
       "10                 2  \n",
       "11                 2  \n",
       "12                 2  \n",
       "13                 2  \n",
       "14                 5  \n",
       "15                 4  \n",
       "16                 2  \n",
       "17                 4  \n",
       "18                 5  \n",
       "19                 2  \n",
       "20                 5  \n",
       "21                 4  \n",
       "22                 5  \n",
       "23                 3  \n",
       "24                 2  "
      ]
     },
     "execution_count": 2,
     "metadata": {},
     "output_type": "execute_result"
    }
   ],
   "source": [
    "og_df=pd.read_csv(\"./hpg_reserve.csv\")\n",
    "og_df.head(25)"
   ]
  },
  {
   "cell_type": "code",
   "execution_count": 2,
   "id": "75634c62",
   "metadata": {},
   "outputs": [
    {
     "data": {
      "text/html": [
       "<div>\n",
       "<style scoped>\n",
       "    .dataframe tbody tr th:only-of-type {\n",
       "        vertical-align: middle;\n",
       "    }\n",
       "\n",
       "    .dataframe tbody tr th {\n",
       "        vertical-align: top;\n",
       "    }\n",
       "\n",
       "    .dataframe thead th {\n",
       "        text-align: right;\n",
       "    }\n",
       "</style>\n",
       "<table border=\"1\" class=\"dataframe\">\n",
       "  <thead>\n",
       "    <tr style=\"text-align: right;\">\n",
       "      <th></th>\n",
       "      <th>day</th>\n",
       "      <th>day_of_week</th>\n",
       "      <th>month</th>\n",
       "      <th>year</th>\n",
       "      <th>hour</th>\n",
       "      <th>visitors</th>\n",
       "    </tr>\n",
       "  </thead>\n",
       "  <tbody>\n",
       "    <tr>\n",
       "      <th>0</th>\n",
       "      <td>1</td>\n",
       "      <td>4</td>\n",
       "      <td>1</td>\n",
       "      <td>2016</td>\n",
       "      <td>11</td>\n",
       "      <td>1</td>\n",
       "    </tr>\n",
       "    <tr>\n",
       "      <th>1</th>\n",
       "      <td>1</td>\n",
       "      <td>4</td>\n",
       "      <td>1</td>\n",
       "      <td>2016</td>\n",
       "      <td>13</td>\n",
       "      <td>1</td>\n",
       "    </tr>\n",
       "    <tr>\n",
       "      <th>2</th>\n",
       "      <td>1</td>\n",
       "      <td>4</td>\n",
       "      <td>1</td>\n",
       "      <td>2016</td>\n",
       "      <td>16</td>\n",
       "      <td>1</td>\n",
       "    </tr>\n",
       "    <tr>\n",
       "      <th>3</th>\n",
       "      <td>1</td>\n",
       "      <td>4</td>\n",
       "      <td>1</td>\n",
       "      <td>2016</td>\n",
       "      <td>17</td>\n",
       "      <td>32</td>\n",
       "    </tr>\n",
       "    <tr>\n",
       "      <th>4</th>\n",
       "      <td>1</td>\n",
       "      <td>4</td>\n",
       "      <td>1</td>\n",
       "      <td>2016</td>\n",
       "      <td>18</td>\n",
       "      <td>44</td>\n",
       "    </tr>\n",
       "    <tr>\n",
       "      <th>5</th>\n",
       "      <td>1</td>\n",
       "      <td>4</td>\n",
       "      <td>1</td>\n",
       "      <td>2016</td>\n",
       "      <td>19</td>\n",
       "      <td>51</td>\n",
       "    </tr>\n",
       "    <tr>\n",
       "      <th>6</th>\n",
       "      <td>1</td>\n",
       "      <td>4</td>\n",
       "      <td>1</td>\n",
       "      <td>2016</td>\n",
       "      <td>20</td>\n",
       "      <td>15</td>\n",
       "    </tr>\n",
       "    <tr>\n",
       "      <th>7</th>\n",
       "      <td>1</td>\n",
       "      <td>4</td>\n",
       "      <td>1</td>\n",
       "      <td>2016</td>\n",
       "      <td>21</td>\n",
       "      <td>3</td>\n",
       "    </tr>\n",
       "    <tr>\n",
       "      <th>8</th>\n",
       "      <td>1</td>\n",
       "      <td>4</td>\n",
       "      <td>1</td>\n",
       "      <td>2016</td>\n",
       "      <td>22</td>\n",
       "      <td>4</td>\n",
       "    </tr>\n",
       "    <tr>\n",
       "      <th>9</th>\n",
       "      <td>2</td>\n",
       "      <td>5</td>\n",
       "      <td>1</td>\n",
       "      <td>2016</td>\n",
       "      <td>10</td>\n",
       "      <td>1</td>\n",
       "    </tr>\n",
       "    <tr>\n",
       "      <th>10</th>\n",
       "      <td>2</td>\n",
       "      <td>5</td>\n",
       "      <td>1</td>\n",
       "      <td>2016</td>\n",
       "      <td>11</td>\n",
       "      <td>10</td>\n",
       "    </tr>\n",
       "    <tr>\n",
       "      <th>11</th>\n",
       "      <td>2</td>\n",
       "      <td>5</td>\n",
       "      <td>1</td>\n",
       "      <td>2016</td>\n",
       "      <td>12</td>\n",
       "      <td>20</td>\n",
       "    </tr>\n",
       "    <tr>\n",
       "      <th>12</th>\n",
       "      <td>2</td>\n",
       "      <td>5</td>\n",
       "      <td>1</td>\n",
       "      <td>2016</td>\n",
       "      <td>13</td>\n",
       "      <td>10</td>\n",
       "    </tr>\n",
       "    <tr>\n",
       "      <th>13</th>\n",
       "      <td>2</td>\n",
       "      <td>5</td>\n",
       "      <td>1</td>\n",
       "      <td>2016</td>\n",
       "      <td>14</td>\n",
       "      <td>5</td>\n",
       "    </tr>\n",
       "    <tr>\n",
       "      <th>14</th>\n",
       "      <td>2</td>\n",
       "      <td>5</td>\n",
       "      <td>1</td>\n",
       "      <td>2016</td>\n",
       "      <td>15</td>\n",
       "      <td>3</td>\n",
       "    </tr>\n",
       "    <tr>\n",
       "      <th>15</th>\n",
       "      <td>2</td>\n",
       "      <td>5</td>\n",
       "      <td>1</td>\n",
       "      <td>2016</td>\n",
       "      <td>16</td>\n",
       "      <td>5</td>\n",
       "    </tr>\n",
       "    <tr>\n",
       "      <th>16</th>\n",
       "      <td>2</td>\n",
       "      <td>5</td>\n",
       "      <td>1</td>\n",
       "      <td>2016</td>\n",
       "      <td>17</td>\n",
       "      <td>93</td>\n",
       "    </tr>\n",
       "    <tr>\n",
       "      <th>17</th>\n",
       "      <td>2</td>\n",
       "      <td>5</td>\n",
       "      <td>1</td>\n",
       "      <td>2016</td>\n",
       "      <td>18</td>\n",
       "      <td>294</td>\n",
       "    </tr>\n",
       "    <tr>\n",
       "      <th>18</th>\n",
       "      <td>2</td>\n",
       "      <td>5</td>\n",
       "      <td>1</td>\n",
       "      <td>2016</td>\n",
       "      <td>19</td>\n",
       "      <td>222</td>\n",
       "    </tr>\n",
       "    <tr>\n",
       "      <th>19</th>\n",
       "      <td>2</td>\n",
       "      <td>5</td>\n",
       "      <td>1</td>\n",
       "      <td>2016</td>\n",
       "      <td>20</td>\n",
       "      <td>64</td>\n",
       "    </tr>\n",
       "    <tr>\n",
       "      <th>20</th>\n",
       "      <td>2</td>\n",
       "      <td>5</td>\n",
       "      <td>1</td>\n",
       "      <td>2016</td>\n",
       "      <td>21</td>\n",
       "      <td>19</td>\n",
       "    </tr>\n",
       "    <tr>\n",
       "      <th>21</th>\n",
       "      <td>2</td>\n",
       "      <td>5</td>\n",
       "      <td>1</td>\n",
       "      <td>2016</td>\n",
       "      <td>22</td>\n",
       "      <td>6</td>\n",
       "    </tr>\n",
       "    <tr>\n",
       "      <th>22</th>\n",
       "      <td>2</td>\n",
       "      <td>5</td>\n",
       "      <td>1</td>\n",
       "      <td>2016</td>\n",
       "      <td>23</td>\n",
       "      <td>4</td>\n",
       "    </tr>\n",
       "    <tr>\n",
       "      <th>23</th>\n",
       "      <td>3</td>\n",
       "      <td>6</td>\n",
       "      <td>1</td>\n",
       "      <td>2016</td>\n",
       "      <td>0</td>\n",
       "      <td>1</td>\n",
       "    </tr>\n",
       "    <tr>\n",
       "      <th>24</th>\n",
       "      <td>3</td>\n",
       "      <td>6</td>\n",
       "      <td>1</td>\n",
       "      <td>2016</td>\n",
       "      <td>1</td>\n",
       "      <td>3</td>\n",
       "    </tr>\n",
       "  </tbody>\n",
       "</table>\n",
       "</div>"
      ],
      "text/plain": [
       "    day  day_of_week  month  year  hour  visitors\n",
       "0     1            4      1  2016    11         1\n",
       "1     1            4      1  2016    13         1\n",
       "2     1            4      1  2016    16         1\n",
       "3     1            4      1  2016    17        32\n",
       "4     1            4      1  2016    18        44\n",
       "5     1            4      1  2016    19        51\n",
       "6     1            4      1  2016    20        15\n",
       "7     1            4      1  2016    21         3\n",
       "8     1            4      1  2016    22         4\n",
       "9     2            5      1  2016    10         1\n",
       "10    2            5      1  2016    11        10\n",
       "11    2            5      1  2016    12        20\n",
       "12    2            5      1  2016    13        10\n",
       "13    2            5      1  2016    14         5\n",
       "14    2            5      1  2016    15         3\n",
       "15    2            5      1  2016    16         5\n",
       "16    2            5      1  2016    17        93\n",
       "17    2            5      1  2016    18       294\n",
       "18    2            5      1  2016    19       222\n",
       "19    2            5      1  2016    20        64\n",
       "20    2            5      1  2016    21        19\n",
       "21    2            5      1  2016    22         6\n",
       "22    2            5      1  2016    23         4\n",
       "23    3            6      1  2016     0         1\n",
       "24    3            6      1  2016     1         3"
      ]
     },
     "execution_count": 2,
     "metadata": {},
     "output_type": "execute_result"
    }
   ],
   "source": [
    "df=pd.read_csv(\"./hpg_reserve.csv\").drop([\"hpg_store_id\", \"reserve_datetime\"], axis=1)\n",
    "df=pd.DataFrame(df.groupby(['visit_datetime']).count()).reset_index()\n",
    "df['day'] = pd.to_datetime(df['visit_datetime']).dt.day\n",
    "df['day_of_week'] = pd.to_datetime(df['visit_datetime']).dt.weekday\n",
    "df['month'] = pd.to_datetime(df['visit_datetime']).dt.month\n",
    "df['year'] = pd.to_datetime(df['visit_datetime']).dt.year\n",
    "df['hour'] = pd.to_datetime(df['visit_datetime']).dt.hour\n",
    "df.drop(['visit_datetime'], axis=1, inplace=True)\n",
    "df = df.rename(columns={'reserve_visitors': 'visitors'})\n",
    "df = df[['day', 'day_of_week', 'month', 'year', 'hour', 'visitors']]\n",
    "df.head(25)"
   ]
  },
  {
   "cell_type": "markdown",
   "id": "912fc50c",
   "metadata": {},
   "source": [
    "## Data Visualization"
   ]
  },
  {
   "cell_type": "code",
   "execution_count": 4,
   "id": "5d7aa3f6",
   "metadata": {},
   "outputs": [
    {
     "data": {
      "text/plain": [
       "<AxesSubplot:xlabel='day', ylabel='visitors'>"
      ]
     },
     "execution_count": 4,
     "metadata": {},
     "output_type": "execute_result"
    },
    {
     "data": {
      "image/png": "[encoded data removed]",
      "text/plain": [
       "<Figure size 1200x400 with 1 Axes>"
      ]
     },
     "metadata": {},
     "output_type": "display_data"
    }
   ],
   "source": [
    "sns.set(rc={'figure.figsize':(12,4)})\n",
    "sns.barplot(data=df, x=\"day\", y=\"visitors\")"
   ]
  },
  {
   "cell_type": "code",
   "execution_count": 5,
   "id": "10e96d53",
   "metadata": {},
   "outputs": [
    {
     "data": {
      "text/plain": [
       "<AxesSubplot:xlabel='day_of_week', ylabel='visitors'>"
      ]
     },
     "execution_count": 5,
     "metadata": {},
     "output_type": "execute_result"
    },
    {
     "data": {
      "image/png": "[encoded data removed]",
      "text/plain": [
       "<Figure size 800x400 with 1 Axes>"
      ]
     },
     "metadata": {},
     "output_type": "display_data"
    }
   ],
   "source": [
    "sns.set(rc={'figure.figsize':(8,4)})\n",
    "sns.barplot(data=df, x=\"day_of_week\", y=\"visitors\")"
   ]
  },
  {
   "cell_type": "code",
   "execution_count": 6,
   "id": "6c038bf2",
   "metadata": {},
   "outputs": [
    {
     "data": {
      "text/plain": [
       "<AxesSubplot:xlabel='month', ylabel='visitors'>"
      ]
     },
     "execution_count": 6,
     "metadata": {},
     "output_type": "execute_result"
    },
    {
     "data": {
      "image/png": "[encoded data removed]",
      "text/plain": [
       "<Figure size 1200x400 with 1 Axes>"
      ]
     },
     "metadata": {},
     "output_type": "display_data"
    }
   ],
   "source": [
    "sns.set(rc={'figure.figsize':(12,4)})\n",
    "sns.barplot(data=df, x=\"month\", y=\"visitors\")"
   ]
  },
  {
   "cell_type": "code",
   "execution_count": 7,
   "id": "5087842e",
   "metadata": {},
   "outputs": [
    {
     "data": {
      "text/plain": [
       "<AxesSubplot:xlabel='year', ylabel='visitors'>"
      ]
     },
     "execution_count": 7,
     "metadata": {},
     "output_type": "execute_result"
    },
    {
     "data": {
      "image/png": "[encoded data removed]",
      "text/plain": [
       "<Figure size 400x400 with 1 Axes>"
      ]
     },
     "metadata": {},
     "output_type": "display_data"
    }
   ],
   "source": [
    "sns.set(rc={'figure.figsize':(4,4)})\n",
    "sns.barplot(data=df, x=\"year\", y=\"visitors\")"
   ]
  },
  {
   "cell_type": "code",
   "execution_count": 8,
   "id": "401dcbe2",
   "metadata": {},
   "outputs": [
    {
     "data": {
      "text/plain": [
       "<AxesSubplot:xlabel='hour', ylabel='visitors'>"
      ]
     },
     "execution_count": 8,
     "metadata": {},
     "output_type": "execute_result"
    },
    {
     "data": {
      "image/png": "[encoded data removed]",
      "text/plain": [
       "<Figure size 1200x400 with 1 Axes>"
      ]
     },
     "metadata": {},
     "output_type": "display_data"
    }
   ],
   "source": [
    "sns.set(rc={'figure.figsize':(12,4)})\n",
    "sns.barplot(data=df, x=\"hour\", y=\"visitors\")"
   ]
  },
  {
   "cell_type": "code",
   "execution_count": 9,
   "id": "9ce236cf",
   "metadata": {},
   "outputs": [
    {
     "data": {
      "text/plain": [
       "<AxesSubplot:>"
      ]
     },
     "execution_count": 9,
     "metadata": {},
     "output_type": "execute_result"
    },
    {
     "data": {
      "image/png": "[encoded data removed]",
      "text/plain": [
       "<Figure size 800x600 with 2 Axes>"
      ]
     },
     "metadata": {},
     "output_type": "display_data"
    }
   ],
   "source": [
    "sns.set(rc={'figure.figsize':(8,6)})\n",
    "sns.heatmap(df.corr(), annot=True)"
   ]
  },
  {
   "cell_type": "markdown",
   "id": "96059cc7",
   "metadata": {},
   "source": [
    "## Train-Test Split"
   ]
  },
  {
   "cell_type": "code",
   "execution_count": 3,
   "id": "1f13ce70",
   "metadata": {},
   "outputs": [],
   "source": [
    "X = df.drop(columns='visitors', axis=1)\n",
    "Y = df['visitors']"
   ]
  },
  {
   "cell_type": "code",
   "execution_count": 4,
   "id": "ab39e1a0",
   "metadata": {},
   "outputs": [],
   "source": [
    "x_train, x_test, y_train, y_test = train_test_split(X, Y, test_size=0.2, random_state=2)"
   ]
  },
  {
   "cell_type": "markdown",
   "id": "54acf364",
   "metadata": {},
   "source": [
    "## Training the model"
   ]
  },
  {
   "cell_type": "code",
   "execution_count": 5,
   "id": "73e22b84",
   "metadata": {},
   "outputs": [],
   "source": [
    "regressor = XGBRegressor()"
   ]
  },
  {
   "cell_type": "code",
   "execution_count": 6,
   "id": "482c6f4e",
   "metadata": {},
   "outputs": [
    {
     "data": {
      "text/plain": [
       "XGBRegressor(base_score=None, booster=None, callbacks=None,\n",
       "             colsample_bylevel=None, colsample_bynode=None,\n",
       "             colsample_bytree=None, early_stopping_rounds=None,\n",
       "             enable_categorical=False, eval_metric=None, feature_types=None,\n",
       "             gamma=None, gpu_id=None, grow_policy=None, importance_type=None,\n",
       "             interaction_constraints=None, learning_rate=None, max_bin=None,\n",
       "             max_cat_threshold=None, max_cat_to_onehot=None,\n",
       "             max_delta_step=None, max_depth=None, max_leaves=None,\n",
       "             min_child_weight=None, missing=nan, monotone_constraints=None,\n",
       "             n_estimators=100, n_jobs=None, num_parallel_tree=None,\n",
       "             predictor=None, random_state=None, ...)"
      ]
     },
     "execution_count": 6,
     "metadata": {},
     "output_type": "execute_result"
    }
   ],
   "source": [
    "regressor.fit(x_train, y_train)"
   ]
  },
  {
   "cell_type": "markdown",
   "id": "fec8af0b",
   "metadata": {},
   "source": [
    "## Model Evaluation"
   ]
  },
  {
   "cell_type": "code",
   "execution_count": 7,
   "id": "8643aa38",
   "metadata": {},
   "outputs": [],
   "source": [
    "train_pred = regressor.predict(x_train)"
   ]
  },
  {
   "cell_type": "code",
   "execution_count": 8,
   "id": "f120e434",
   "metadata": {},
   "outputs": [
    {
     "name": "stdout",
     "output_type": "stream",
     "text": [
      "R squared value :  0.9941762986819077\n"
     ]
    }
   ],
   "source": [
    "r2_train = metrics.r2_score(y_train, train_pred)\n",
    "print('R squared value : ', r2_train)"
   ]
  },
  {
   "cell_type": "code",
   "execution_count": 9,
   "id": "44f55213",
   "metadata": {},
   "outputs": [],
   "source": [
    "test_pred = regressor.predict(x_test)"
   ]
  },
  {
   "cell_type": "code",
   "execution_count": 10,
   "id": "049b7d80",
   "metadata": {},
   "outputs": [
    {
     "name": "stdout",
     "output_type": "stream",
     "text": [
      "R squared value :  0.8748986619611803\n"
     ]
    }
   ],
   "source": [
    "r2_test = metrics.r2_score(y_test, test_pred)\n",
    "print('R squared value : ', r2_test)"
   ]
  },
  {
   "cell_type": "markdown",
   "id": "a7964321",
   "metadata": {},
   "source": [
    "## Prediction System"
   ]
  },
  {
   "cell_type": "code",
   "execution_count": 11,
   "id": "2854b720",
   "metadata": {},
   "outputs": [
    {
     "name": "stdout",
     "output_type": "stream",
     "text": [
      "Enter the input data for the prediction :-\n",
      "Enter the day : 4\n",
      "Enter the day of the week : 3\n",
      "Enter the month : 6\n",
      "Enter the year : 2019\n",
      "Enter the hour : 7\n",
      "\n",
      "The predicted foot-traffic on the given date and time is -13 people.\n"
     ]
    }
   ],
   "source": [
    "print(\"Enter the input data for the prediction :-\")\n",
    "day=int(input(\"Enter the day : \"))\n",
    "day_of_week=int(input(\"Enter the day of the week : \"))\n",
    "month=int(input(\"Enter the month : \"))\n",
    "year=int(input(\"Enter the year : \"))\n",
    "hour=int(input(\"Enter the hour : \"))\n",
    "input_data=[day, day_of_week, month, year, hour]\n",
    "series = {'day': [day],\n",
    "          'day_of_week': [day_of_week],\n",
    "          'month': [month],\n",
    "          'year': [year],\n",
    "          'hour': [hour]\n",
    "           }\n",
    "vector = pd.DataFrame(series)\n",
    "names = regressor.get_booster().feature_names\n",
    "result = regressor.predict(vector[names].iloc[[-1]])\n",
    "print()\n",
    "print(\"The predicted foot-traffic on the given date and time is \"+str(round(result[0]))+ \" people.\")"
   ]
  },
  {
   "cell_type": "code",
   "execution_count": null,
   "id": "4855265f",
   "metadata": {},
   "outputs": [],
   "source": []
  }
 ],
 "metadata": {
  "kernelspec": {
   "display_name": "Python 3 (ipykernel)",
   "language": "python",
   "name": "python3"
  },
  "language_info": {
   "codemirror_mode": {
    "name": "ipython",
    "version": 3
   },
   "file_extension": ".py",
   "mimetype": "text/x-python",
   "name": "python",
   "nbconvert_exporter": "python",
   "pygments_lexer": "ipython3",
   "version": "3.9.13"
  }
 },
 "nbformat": 4,
 "nbformat_minor": 5
}
